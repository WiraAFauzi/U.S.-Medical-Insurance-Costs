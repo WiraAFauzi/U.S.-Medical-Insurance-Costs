{
 "cells": [
  {
   "cell_type": "markdown",
   "metadata": {},
   "source": [
    "# U.S. Medical Insurance Costs"
   ]
  },
  {
   "cell_type": "code",
   "execution_count": null,
   "metadata": {},
   "outputs": [],
   "source": [
    "import pandas as pd\n",
    "\n",
    "# Load the dataset\n",
    "df = pd.read_csv('insurance.csv')\n",
    "\n",
    "# 1) Calculate the average age of the patients in the database\n",
    "average_age = df['age'].mean()\n",
    "print(f\"Average age of patients: {average_age:.2f}\")\n",
    "\n",
    "# 2) Analyze where the majority of individuals are from\n",
    "region_counts = df['region'].value_counts()\n",
    "most_common_region = region_counts.idxmax()\n",
    "most_common_region_count = region_counts.max()\n",
    "print(f\"Most common region: {most_common_region} with {most_common_region_count} individuals\")\n",
    "\n",
    "# 3) Look at the cost difference between smokers vs non-smokers\n",
    "average_cost_smokers = df[df['smoker'] == 'yes']['charges'].mean()\n",
    "average_cost_non_smokers = df[df['smoker'] == 'no']['charges'].mean()\n",
    "print(f\"Average cost for smokers: ${average_cost_smokers:.2f}\")\n",
    "print(f\"Average cost for non-smokers: ${average_cost_non_smokers:.2f}\")\n",
    "\n",
    "# 4) Figure out the average age for someone who has at least one child\n",
    "average_age_with_children = df[df['children'] > 0]['age'].mean()\n",
    "print(f\"Average age of individuals with at least one child: {average_age_with_children:.2f}\")\n"
   ]
  }
 ],
 "metadata": {
  "kernelspec": {
   "display_name": "Python 3 (ipykernel)",
   "language": "python",
   "name": "python3"
  },
  "language_info": {
   "codemirror_mode": {
    "name": "ipython",
    "version": 3
   },
   "file_extension": ".py",
   "mimetype": "text/x-python",
   "name": "python",
   "nbconvert_exporter": "python",
   "pygments_lexer": "ipython3",
   "version": "3.12.2"
  }
 },
 "nbformat": 4,
 "nbformat_minor": 4
}
